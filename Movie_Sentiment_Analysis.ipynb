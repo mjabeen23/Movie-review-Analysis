{
  "nbformat": 4,
  "nbformat_minor": 0,
  "metadata": {
    "colab": {
      "provenance": []
    },
    "kernelspec": {
      "name": "python3",
      "display_name": "Python 3"
    },
    "language_info": {
      "name": "python"
    }
  },
  "cells": [
    {
      "cell_type": "code",
      "execution_count": 1,
      "metadata": {
        "id": "5GhpLhQxvHGy",
        "colab": {
          "base_uri": "https://localhost:8080/"
        },
        "outputId": "1db989ec-8f81-4e70-d063-2defa3b217cf"
      },
      "outputs": [
        {
          "output_type": "stream",
          "name": "stdout",
          "text": [
            "Mounted at /content/gdrive\n"
          ]
        }
      ],
      "source": [
        "from google.colab import drive\n",
        "drive.mount('/content/gdrive')"
      ]
    },
    {
      "cell_type": "markdown",
      "source": [
        "**Importing the Libraries**"
      ],
      "metadata": {
        "id": "dLXxeItyNxaL"
      }
    },
    {
      "cell_type": "code",
      "source": [
        "import pandas as pd\n",
        "import nltk\n",
        "from nltk.corpus import stopwords\n",
        "from nltk.tokenize import word_tokenize\n",
        "from nltk.stem import WordNetLemmatizer\n",
        "import re\n",
        "from string import punctuation\n",
        "import matplotlib.pyplot as plt\n",
        "import numpy as np"
      ],
      "metadata": {
        "id": "Q06grx1i4Xt5"
      },
      "execution_count": 2,
      "outputs": []
    },
    {
      "cell_type": "code",
      "source": [
        "nltk.download('punkt')\n",
        "nltk.download('stopwords')\n",
        "nltk.download('wordnet')"
      ],
      "metadata": {
        "id": "SOpmhn9G8XSb",
        "colab": {
          "base_uri": "https://localhost:8080/"
        },
        "outputId": "a9c93f21-8bbe-46f1-d3b1-d5565f5a35ff"
      },
      "execution_count": 3,
      "outputs": [
        {
          "output_type": "stream",
          "name": "stderr",
          "text": [
            "[nltk_data] Downloading package punkt to /root/nltk_data...\n",
            "[nltk_data]   Unzipping tokenizers/punkt.zip.\n",
            "[nltk_data] Downloading package stopwords to /root/nltk_data...\n",
            "[nltk_data]   Unzipping corpora/stopwords.zip.\n",
            "[nltk_data] Downloading package wordnet to /root/nltk_data...\n"
          ]
        },
        {
          "output_type": "execute_result",
          "data": {
            "text/plain": [
              "True"
            ]
          },
          "metadata": {},
          "execution_count": 3
        }
      ]
    },
    {
      "cell_type": "markdown",
      "source": [
        "**Importing the data**"
      ],
      "metadata": {
        "id": "xjWmu5VVN8Lz"
      }
    },
    {
      "cell_type": "code",
      "source": [
        "data = pd.read_csv(\"/content/gdrive/MyDrive/Movie-sentiment-analysis/movie_reviews.csv\")"
      ],
      "metadata": {
        "id": "36ZkLYRD4-QR"
      },
      "execution_count": 4,
      "outputs": []
    },
    {
      "cell_type": "code",
      "source": [
        "data.head()"
      ],
      "metadata": {
        "id": "ywfWpykh5Dic"
      },
      "execution_count": null,
      "outputs": []
    },
    {
      "cell_type": "code",
      "source": [
        "data.isnull().sum()"
      ],
      "metadata": {
        "id": "mp0Nk8Q_5LKE"
      },
      "execution_count": null,
      "outputs": []
    },
    {
      "cell_type": "code",
      "source": [
        "data.shape"
      ],
      "metadata": {
        "id": "HzEgAmcdf_mY"
      },
      "execution_count": null,
      "outputs": []
    },
    {
      "cell_type": "markdown",
      "source": [
        "**Bar graph demonstrating the distribution of Movie Ratings**"
      ],
      "metadata": {
        "id": "3EpCSVpROIO2"
      }
    },
    {
      "cell_type": "code",
      "source": [
        "# Count the occurrences of each rating\n",
        "rating_counts = data['Rating'].value_counts().sort_index()\\"
      ],
      "metadata": {
        "id": "nYSCwhBa_oRX"
      },
      "execution_count": null,
      "outputs": []
    },
    {
      "cell_type": "code",
      "source": [
        "labels = np.array([ '1', '2', '3', '4', '7', '8', '9', '10'])\n",
        "# Create a bar plot\n",
        "plt.bar(labels, rating_counts, color='blue')\n",
        "plt.xlabel('Rating')\n",
        "plt.ylabel('Number of Reviews')\n",
        "plt.title('Distribution of Movie Ratings')\n",
        "plt.show()"
      ],
      "metadata": {
        "id": "jLNuZFR38D6K"
      },
      "execution_count": null,
      "outputs": []
    },
    {
      "cell_type": "markdown",
      "source": [
        "**Preprocessing Train Dataset**"
      ],
      "metadata": {
        "id": "g6ZhF8XCObOr"
      }
    },
    {
      "cell_type": "code",
      "source": [
        "# Initialize the WordNet Lemmatizer\n",
        "lemmatizer = WordNetLemmatizer()\n",
        "# Get the list of English stopwords from NLTK\n",
        "stop_words = set(stopwords.words('english'))\n",
        "# Function to perform cleaning, tokenization, stopwords removal, and lemmatization\n",
        "def preprocess_text(text):\n",
        "    text = text.lower()\n",
        "    text = ''.join([c for c in text if c not in punctuation])\n",
        "    text = text.replace('<br>', ' ')\n",
        "    # Tokenize the text\n",
        "    tokens = word_tokenize(text)\n",
        "    # Remove stopwords and lemmatize tokens\n",
        "    lemmatized_tokens = [lemmatizer.lemmatize(token) for token in tokens if token not in stop_words]\n",
        "    # Join the lemmatized tokens back into a string\n",
        "    preprocessed_text = ' '.join(lemmatized_tokens)\n",
        "    return preprocessed_text\n",
        "data['Comment'] = data['Comment'].apply(preprocess_text)"
      ],
      "metadata": {
        "id": "RnPLNgO_AU0w"
      },
      "execution_count": 5,
      "outputs": []
    },
    {
      "cell_type": "markdown",
      "source": [
        "**Vectorization of Data**"
      ],
      "metadata": {
        "id": "B8ez-hArOnRX"
      }
    },
    {
      "cell_type": "code",
      "source": [
        "from sklearn.feature_extraction.text import TfidfVectorizer\n",
        "from sklearn.metrics import classification_report\n",
        "X = data.iloc[:,2]\n",
        "y = data.iloc[:,1]"
      ],
      "metadata": {
        "id": "PSSyC-jAYp2u"
      },
      "execution_count": 6,
      "outputs": []
    },
    {
      "cell_type": "code",
      "source": [
        "# Convert text data to TF-IDF features\n",
        "tfidf_vectorizer = TfidfVectorizer(max_features=5000)  # You can adjust max_features as needed\n",
        "X_train_tfidf = tfidf_vectorizer.fit_transform(X)"
      ],
      "metadata": {
        "id": "4sMjJk-pYYbz"
      },
      "execution_count": 7,
      "outputs": []
    },
    {
      "cell_type": "markdown",
      "source": [
        "**Preprocessing on Test Dataset**"
      ],
      "metadata": {
        "id": "Y0Ljnh63Os3Z"
      }
    },
    {
      "cell_type": "code",
      "source": [
        "test_data = pd.read_csv(\"/content/gdrive/MyDrive/Movie-sentiment-analysis/movie_reviews_test.csv\")\n",
        "test_comment = test_data.iloc[:,2]\n",
        "test_rating = test_data.iloc[:,1]\n",
        "test_comment = test_comment.apply(preprocess_text)\n",
        "test_comment_tfidf = tfidf_vectorizer.fit_transform(test_comment)"
      ],
      "metadata": {
        "id": "dCC27xpmah98"
      },
      "execution_count": 8,
      "outputs": []
    },
    {
      "cell_type": "markdown",
      "source": [
        "**Model Building - Training and Testing**"
      ],
      "metadata": {
        "id": "ynYSs1PQO04p"
      }
    },
    {
      "cell_type": "code",
      "source": [
        "from sklearn.ensemble import RandomForestClassifier\n",
        "random_forest_classifier = RandomForestClassifier(n_estimators=100, random_state=42)\n",
        "random_forest_classifier.fit(X_train_tfidf, y)\n",
        "y_pred_rfc = random_forest_classifier.predict(test_comment_tfidf)\n",
        "print(classification_report(test_rating, y_pred_rfc))"
      ],
      "metadata": {
        "id": "t7UINOH5529x",
        "colab": {
          "base_uri": "https://localhost:8080/"
        },
        "outputId": "2c8b17e2-847b-46c0-ea98-85f01c60d6e3"
      },
      "execution_count": null,
      "outputs": [
        {
          "output_type": "stream",
          "name": "stdout",
          "text": [
            "              precision    recall  f1-score   support\n",
            "\n",
            "           1       0.38      0.48      0.42      5022\n",
            "           2       0.71      0.01      0.01      2302\n",
            "           3       0.14      0.00      0.01      2541\n",
            "           4       0.54      0.05      0.09      2635\n",
            "           7       0.70      0.06      0.11      2307\n",
            "           8       0.10      0.02      0.03      2850\n",
            "           9       0.06      0.00      0.00      2344\n",
            "          10       0.24      0.84      0.37      4999\n",
            "\n",
            "    accuracy                           0.28     25000\n",
            "   macro avg       0.36      0.18      0.13     25000\n",
            "weighted avg       0.34      0.28      0.19     25000\n",
            "\n"
          ]
        }
      ]
    },
    {
      "cell_type": "code",
      "source": [
        "actual_data = test_rating.to_numpy()\n",
        "predicted_data = np.array(y_pred_rfc)\n",
        "differences = actual_data - predicted_data\n",
        "\n",
        "# Create a scatter plot\n",
        "plt.figure(figsize=(8, 6))\n",
        "plt.scatter(actual_data, differences, color='blue', label='Differences')\n",
        "plt.axhline(0, color='red', linestyle='--', label='Zero Line')\n",
        "plt.xlabel('Actual Data')\n",
        "plt.ylabel('Differences (Actual - Predicted)')\n",
        "plt.title('Variations Between Actual and Predicted Data')\n",
        "plt.legend()\n",
        "plt.grid(True)\n",
        "plt.show()\n"
      ],
      "metadata": {
        "colab": {
          "base_uri": "https://localhost:8080/",
          "height": 564
        },
        "id": "eZZpMYfePdGz",
        "outputId": "131ed09d-8b1a-4e51-99d5-8c7c1b133e34"
      },
      "execution_count": 22,
      "outputs": [
        {
          "output_type": "display_data",
          "data": {
            "text/plain": [
              "<Figure size 800x600 with 1 Axes>"
            ],
            "image/png": "[encoded data removed]"
          },
          "metadata": {}
        }
      ]
    },
    {
      "cell_type": "markdown",
      "source": [
        "**Testing using Different Models - Naive Bayes,SVM linear, SVM rbf, Gradient Boosting Classifier,Neural Networks, Logistic Regression**"
      ],
      "metadata": {
        "id": "pz_Dda0_UFut"
      }
    },
    {
      "cell_type": "code",
      "source": [
        "from sklearn.naive_bayes import MultinomialNB\n",
        "classifier = MultinomialNB()\n",
        "classifier.fit(X_train_tfidf, y)\n",
        "y_pred_nb = classifier.predict(test_comment_tfidf)\n",
        "print(classification_report(test_rating, y_pred_nb))"
      ],
      "metadata": {
        "id": "bCmcVLaeKlmk",
        "colab": {
          "base_uri": "https://localhost:8080/"
        },
        "outputId": "2035f521-bec2-4299-baa1-90d707c0c89c"
      },
      "execution_count": null,
      "outputs": [
        {
          "output_type": "stream",
          "name": "stdout",
          "text": [
            "              precision    recall  f1-score   support\n",
            "\n",
            "           1       0.36      0.17      0.23      5022\n",
            "           2       0.14      0.07      0.09      2302\n",
            "           3       0.12      0.06      0.08      2541\n",
            "           4       0.14      0.16      0.15      2635\n",
            "           7       0.12      0.16      0.13      2307\n",
            "           8       0.14      0.45      0.21      2850\n",
            "           9       0.11      0.09      0.09      2344\n",
            "          10       0.29      0.16      0.21      4999\n",
            "\n",
            "    accuracy                           0.17     25000\n",
            "   macro avg       0.17      0.16      0.15     25000\n",
            "weighted avg       0.20      0.17      0.16     25000\n",
            "\n"
          ]
        }
      ]
    },
    {
      "cell_type": "code",
      "source": [
        "from sklearn.svm import SVC\n",
        "svm_classifier = SVC(kernel='linear')\n",
        "svm_classifier.fit(X_train_tfidf, y)\n",
        "y_pred_svm = svm_classifier.predict(test_comment_tfidf)\n",
        "print(classification_report(test_rating, y_pred_svm))"
      ],
      "metadata": {
        "id": "8h9i97Rlz0oB",
        "colab": {
          "base_uri": "https://localhost:8080/"
        },
        "outputId": "eb84b5e7-fc49-41db-ae79-57e88c412e11"
      },
      "execution_count": null,
      "outputs": [
        {
          "output_type": "stream",
          "name": "stdout",
          "text": [
            "              precision    recall  f1-score   support\n",
            "\n",
            "           1       0.32      0.38      0.35      5022\n",
            "           2       0.13      0.07      0.09      2302\n",
            "           3       0.12      0.07      0.09      2541\n",
            "           4       0.14      0.23      0.18      2635\n",
            "           7       0.16      0.09      0.12      2307\n",
            "           8       0.14      0.29      0.19      2850\n",
            "           9       0.12      0.03      0.04      2344\n",
            "          10       0.29      0.26      0.27      4999\n",
            "\n",
            "    accuracy                           0.21     25000\n",
            "   macro avg       0.18      0.18      0.17     25000\n",
            "weighted avg       0.20      0.21      0.20     25000\n",
            "\n"
          ]
        }
      ]
    },
    {
      "cell_type": "code",
      "source": [
        "svm_classifier = SVC(kernel='rbf')\n",
        "svm_classifier.fit(X_train_tfidf, y)\n",
        "y_pred_svm_rbf = svm_classifier.predict(test_comment_tfidf)\n",
        "print(classification_report(test_rating, y_pred_svm_rbf))"
      ],
      "metadata": {
        "id": "_mdRmGcp0_kI",
        "colab": {
          "base_uri": "https://localhost:8080/"
        },
        "outputId": "4ce24a3e-e50a-4b80-b074-47f9122c14b7"
      },
      "execution_count": null,
      "outputs": [
        {
          "output_type": "stream",
          "name": "stdout",
          "text": [
            "              precision    recall  f1-score   support\n",
            "\n",
            "           1       0.34      0.47      0.39      5022\n",
            "           2       0.26      0.01      0.02      2302\n",
            "           3       0.13      0.02      0.03      2541\n",
            "           4       0.16      0.20      0.18      2635\n",
            "           7       0.24      0.04      0.08      2307\n",
            "           8       0.15      0.22      0.18      2850\n",
            "           9       0.17      0.00      0.00      2344\n",
            "          10       0.26      0.51      0.35      4999\n",
            "\n",
            "    accuracy                           0.25     25000\n",
            "   macro avg       0.21      0.18      0.15     25000\n",
            "weighted avg       0.23      0.25      0.20     25000\n",
            "\n"
          ]
        }
      ]
    },
    {
      "cell_type": "code",
      "source": [
        "from sklearn.ensemble import GradientBoostingClassifier\n",
        "gb_classifier = GradientBoostingClassifier(n_estimators=100, random_state=42)\n",
        "gb_classifier.fit(X_train_tfidf, y)\n",
        "y_pred_gb = gb_classifier.predict(test_comment_tfidf)\n",
        "print(classification_report(test_rating, y_pred_gb))"
      ],
      "metadata": {
        "id": "FVZZmyfOAlPW",
        "colab": {
          "base_uri": "https://localhost:8080/"
        },
        "outputId": "a68bf04a-91a6-4170-876b-d9b3fac690c5"
      },
      "execution_count": null,
      "outputs": [
        {
          "output_type": "stream",
          "name": "stdout",
          "text": [
            "              precision    recall  f1-score   support\n",
            "\n",
            "           1       0.41      0.38      0.40      5022\n",
            "           2       0.44      0.05      0.08      2302\n",
            "           3       0.13      0.02      0.04      2541\n",
            "           4       0.27      0.10      0.15      2635\n",
            "           7       0.28      0.11      0.15      2307\n",
            "           8       0.13      0.12      0.13      2850\n",
            "           9       0.07      0.01      0.02      2344\n",
            "          10       0.24      0.72      0.36      4999\n",
            "\n",
            "    accuracy                           0.26     25000\n",
            "   macro avg       0.25      0.19      0.17     25000\n",
            "weighted avg       0.26      0.26      0.21     25000\n",
            "\n"
          ]
        }
      ]
    },
    {
      "cell_type": "code",
      "source": [
        "import tensorflow as tf\n",
        "from tensorflow.keras.models import Sequential\n",
        "from tensorflow.keras.layers import Dense, Dropout\n",
        "model = Sequential([\n",
        "    Dense(128, activation='relu', input_shape=(X_train_tfidf.shape[1],)),\n",
        "    Dropout(0.5),\n",
        "    Dense(64, activation='relu'),\n",
        "    Dropout(0.5),\n",
        "    Dense(11, activation='softmax')  # Adjust the number of classes (10 here) based on the dataset\n",
        "])\n",
        "model.compile(optimizer='adam', loss='sparse_categorical_crossentropy', metrics=['accuracy'])\n",
        "model.fit(X_train_tfidf.toarray(), y, epochs=10, batch_size=32, validation_split=0.1)\n",
        "loss, accuracy = model.evaluate(test_comment_tfidf.toarray(), test_rating)\n",
        "print(f\"Test accuracy: {accuracy:.4f}\")"
      ],
      "metadata": {
        "id": "q_aqw7g7B-Sc",
        "colab": {
          "base_uri": "https://localhost:8080/"
        },
        "outputId": "ee89251a-c432-4c85-d996-c17c3ced8a05"
      },
      "execution_count": null,
      "outputs": [
        {
          "output_type": "stream",
          "name": "stdout",
          "text": [
            "Epoch 1/10\n",
            "704/704 [==============================] - 9s 12ms/step - loss: 1.7626 - accuracy: 0.3396 - val_loss: 1.5002 - val_accuracy: 0.4240\n",
            "Epoch 2/10\n",
            "704/704 [==============================] - 9s 13ms/step - loss: 1.4238 - accuracy: 0.4440 - val_loss: 1.4951 - val_accuracy: 0.4316\n",
            "Epoch 3/10\n",
            "704/704 [==============================] - 9s 13ms/step - loss: 1.2986 - accuracy: 0.4896 - val_loss: 1.4502 - val_accuracy: 0.4460\n",
            "Epoch 4/10\n",
            "704/704 [==============================] - 8s 11ms/step - loss: 1.1919 - accuracy: 0.5299 - val_loss: 1.5177 - val_accuracy: 0.4316\n",
            "Epoch 5/10\n",
            "704/704 [==============================] - 9s 13ms/step - loss: 1.0874 - accuracy: 0.5779 - val_loss: 1.7203 - val_accuracy: 0.4112\n",
            "Epoch 6/10\n",
            "704/704 [==============================] - 8s 11ms/step - loss: 0.9718 - accuracy: 0.6248 - val_loss: 1.6991 - val_accuracy: 0.4096\n",
            "Epoch 7/10\n",
            "704/704 [==============================] - 9s 13ms/step - loss: 0.8626 - accuracy: 0.6720 - val_loss: 1.8113 - val_accuracy: 0.4140\n",
            "Epoch 8/10\n",
            "704/704 [==============================] - 8s 12ms/step - loss: 0.7633 - accuracy: 0.7156 - val_loss: 1.9367 - val_accuracy: 0.4060\n",
            "Epoch 9/10\n",
            "704/704 [==============================] - 9s 13ms/step - loss: 0.6763 - accuracy: 0.7512 - val_loss: 2.0708 - val_accuracy: 0.3976\n",
            "Epoch 10/10\n",
            "704/704 [==============================] - 9s 13ms/step - loss: 0.6028 - accuracy: 0.7833 - val_loss: 2.2651 - val_accuracy: 0.4052\n",
            "782/782 [==============================] - 2s 3ms/step - loss: 5.7441 - accuracy: 0.1890\n",
            "Test accuracy: 0.1890\n"
          ]
        }
      ]
    },
    {
      "cell_type": "code",
      "source": [],
      "metadata": {
        "id": "RAK9otTREp0j"
      },
      "execution_count": null,
      "outputs": []
    },
    {
      "cell_type": "code",
      "source": [
        "from sklearn.linear_model import LogisticRegression\n",
        "logreg_model = LogisticRegression(max_iter=1000, random_state=42)\n",
        "logreg_model.fit(X_train_tfidf, y)\n",
        "y_pred_lr = logreg_model.predict(test_comment_tfidf)\n",
        "print(classification_report(test_rating, y_pred_lr))"
      ],
      "metadata": {
        "id": "O-ZtKVKlHGs1",
        "colab": {
          "base_uri": "https://localhost:8080/"
        },
        "outputId": "ed4d5434-61f1-400b-8bcf-575b304a9006"
      },
      "execution_count": null,
      "outputs": [
        {
          "output_type": "stream",
          "name": "stdout",
          "text": [
            "              precision    recall  f1-score   support\n",
            "\n",
            "           1       0.34      0.42      0.38      5022\n",
            "           2       0.15      0.05      0.08      2302\n",
            "           3       0.12      0.04      0.06      2541\n",
            "           4       0.16      0.20      0.18      2635\n",
            "           7       0.20      0.09      0.13      2307\n",
            "           8       0.15      0.29      0.20      2850\n",
            "           9       0.13      0.03      0.05      2344\n",
            "          10       0.27      0.36      0.31      4999\n",
            "\n",
            "    accuracy                           0.23     25000\n",
            "   macro avg       0.19      0.19      0.17     25000\n",
            "weighted avg       0.21      0.23      0.21     25000\n",
            "\n"
          ]
        }
      ]
    }
  ]
}